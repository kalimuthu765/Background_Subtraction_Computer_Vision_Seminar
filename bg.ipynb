{
 "cells": [
  {
   "cell_type": "code",
   "execution_count": 14,
   "id": "367720d5-e82d-49cd-bc1c-6ad5d87eaea2",
   "metadata": {},
   "outputs": [],
   "source": [
    "import numpy as np \n",
    "import cv2 \n",
    "\n",
    "\n",
    "fgbg1 = cv2.bgsegm.createBackgroundSubtractorMOG()\n",
    "fgbg2 = cv2.createBackgroundSubtractorMOG2()\n",
    "fgbg3 = cv2.bgsegm.createBackgroundSubtractorGMG()\n",
    "\n",
    "\n",
    "cap = cv2.VideoCapture('Downloads/27260-362770008_large.mp4') \n",
    "\n",
    "while cap.isOpened(): \n",
    "    ret, img = cap.read()\n",
    "    if not ret:\n",
    "        break\n",
    "    \n",
    " \n",
    "    img = cv2.resize(img, (480, 360))\n",
    "    \n",
    "\n",
    "    fgmask1 = fgbg1.apply(img)\n",
    "    fgmask2 = fgbg2.apply(img)\n",
    "    fgmask3 = fgbg3.apply(img)\n",
    "    \n",
    "\n",
    "    cv2.imshow('Original (Resized)', img)\n",
    "    cv2.imshow('MOG (Resized)', fgmask1)\n",
    "    cv2.imshow('MOG2 (Resized)', fgmask2)\n",
    "    cv2.imshow('GMG (Resized)', fgmask3)\n",
    "    \n",
    "    k = cv2.waitKey(30) & 0xff\n",
    "    if k == 27:\n",
    "        break\n",
    "\n",
    "cap.release()\n",
    "cv2.destroyAllWindows()\n"
   ]
  },
  {
   "cell_type": "code",
   "execution_count": null,
   "id": "fe1378bb-0881-40c0-9beb-00619f31e723",
   "metadata": {},
   "outputs": [],
   "source": []
  }
 ],
 "metadata": {
  "kernelspec": {
   "display_name": "Python 3 (ipykernel)",
   "language": "python",
   "name": "python3"
  },
  "language_info": {
   "codemirror_mode": {
    "name": "ipython",
    "version": 3
   },
   "file_extension": ".py",
   "mimetype": "text/x-python",
   "name": "python",
   "nbconvert_exporter": "python",
   "pygments_lexer": "ipython3",
   "version": "3.13.2"
  }
 },
 "nbformat": 4,
 "nbformat_minor": 5
}
